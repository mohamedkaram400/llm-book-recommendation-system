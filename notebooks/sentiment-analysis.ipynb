{
 "cells": [
  {
   "cell_type": "markdown",
   "metadata": {},
   "source": [
    "### Load the dataset containing book information and categories"
   ]
  },
  {
   "cell_type": "code",
   "execution_count": 4,
   "metadata": {},
   "outputs": [
    {
     "data": {
      "text/plain": [
       "(5606, 14)"
      ]
     },
     "execution_count": 4,
     "metadata": {},
     "output_type": "execute_result"
    }
   ],
   "source": [
    "import pandas as pd\n",
    "\n",
    "books = pd.read_csv('../data/processed/books_with_categories.csv')\n",
    "\n",
    "books.shape"
   ]
  },
  {
   "cell_type": "markdown",
   "metadata": {},
   "source": [
    "### Import the pipeline function from the transformers library to use pre-trained models"
   ]
  },
  {
   "cell_type": "code",
   "execution_count": 3,
   "metadata": {},
   "outputs": [
    {
     "data": {
      "application/vnd.jupyter.widget-view+json": {
       "model_id": "21bdbb549c1c4333a70736341f020637",
       "version_major": 2,
       "version_minor": 0
      },
      "text/plain": [
       "config.json:   0%|          | 0.00/1.00k [00:00<?, ?B/s]"
      ]
     },
     "metadata": {},
     "output_type": "display_data"
    },
    {
     "data": {
      "application/vnd.jupyter.widget-view+json": {
       "model_id": "73bb95824c5c44b08b8095e37d99035e",
       "version_major": 2,
       "version_minor": 0
      },
      "text/plain": [
       "pytorch_model.bin:   0%|          | 0.00/329M [00:00<?, ?B/s]"
      ]
     },
     "metadata": {},
     "output_type": "display_data"
    },
    {
     "name": "stderr",
     "output_type": "stream",
     "text": [
      "Error while downloading from https://cdn-lfs.hf.co/j-hartmann/emotion-english-distilroberta-base/dde1eadd81741344dd707d1c482a3293810eb895c873053213ccdb2b57ca9e95?response-content-disposition=inline%3B+filename*%3DUTF-8%27%27pytorch_model.bin%3B+filename%3D%22pytorch_model.bin%22%3B&response-content-type=application%2Foctet-stream&Expires=1739199724&Policy=eyJTdGF0ZW1lbnQiOlt7IkNvbmRpdGlvbiI6eyJEYXRlTGVzc1RoYW4iOnsiQVdTOkVwb2NoVGltZSI6MTczOTE5OTcyNH19LCJSZXNvdXJjZSI6Imh0dHBzOi8vY2RuLWxmcy5oZi5jby9qLWhhcnRtYW5uL2Vtb3Rpb24tZW5nbGlzaC1kaXN0aWxyb2JlcnRhLWJhc2UvZGRlMWVhZGQ4MTc0MTM0NGRkNzA3ZDFjNDgyYTMyOTM4MTBlYjg5NWM4NzMwNTMyMTNjY2RiMmI1N2NhOWU5NT9yZXNwb25zZS1jb250ZW50LWRpc3Bvc2l0aW9uPSomcmVzcG9uc2UtY29udGVudC10eXBlPSoifV19&Signature=c5Z93KyHRfIYMAcIUn-6MCU%7E0sDerxUIf%7EUt1h8s5PoL2hvg0HxMFA1-M-gAVEItVyAQTn019wV6DQYNuAYZNUr507TWLLbSxvPkU5m4lu-as2gs9VrKmcK3hv-2%7EwOi9fUwRdj7PT0OMEM4qKlTg0pmEfgxsYSyMcX8xgOWATBsFD1tpIvwVlK4-V75WTYQ%7EtFwg9w97m%7EFcWLomSvIcrvXcbX01akJjySqjQNg09mUhUG4a3TOypfS%7E7CFhQ0yX525m0QV2GVMvCS7r5iy9zd4xC95KmWMMDpeYl-uXSesLFOVbyQANySqdAmXdwp8T2JgfzhwLArpDBLwmmPfkA__&Key-Pair-Id=K3RPWS32NSSJCE: HTTPSConnectionPool(host='cdn-lfs.hf.co', port=443): Read timed out.\n",
      "Trying to resume download...\n"
     ]
    },
    {
     "data": {
      "application/vnd.jupyter.widget-view+json": {
       "model_id": "527fa69c4c754d41829328e372d70a7f",
       "version_major": 2,
       "version_minor": 0
      },
      "text/plain": [
       "pytorch_model.bin:  26%|##5       | 83.9M/329M [00:00<?, ?B/s]"
      ]
     },
     "metadata": {},
     "output_type": "display_data"
    },
    {
     "data": {
      "application/vnd.jupyter.widget-view+json": {
       "model_id": "b1eaffcfc6824b20a316c7746c92c30d",
       "version_major": 2,
       "version_minor": 0
      },
      "text/plain": [
       "tokenizer_config.json:   0%|          | 0.00/294 [00:00<?, ?B/s]"
      ]
     },
     "metadata": {},
     "output_type": "display_data"
    },
    {
     "data": {
      "application/vnd.jupyter.widget-view+json": {
       "model_id": "959495d61dbe46e29c6112298f09731c",
       "version_major": 2,
       "version_minor": 0
      },
      "text/plain": [
       "vocab.json:   0%|          | 0.00/798k [00:00<?, ?B/s]"
      ]
     },
     "metadata": {},
     "output_type": "display_data"
    },
    {
     "data": {
      "application/vnd.jupyter.widget-view+json": {
       "model_id": "3757fa200f6a4be7a32ad812cea76ae1",
       "version_major": 2,
       "version_minor": 0
      },
      "text/plain": [
       "merges.txt:   0%|          | 0.00/456k [00:00<?, ?B/s]"
      ]
     },
     "metadata": {},
     "output_type": "display_data"
    },
    {
     "data": {
      "application/vnd.jupyter.widget-view+json": {
       "model_id": "2e1dfb134f1e44a5bafc8e94e258431f",
       "version_major": 2,
       "version_minor": 0
      },
      "text/plain": [
       "tokenizer.json:   0%|          | 0.00/1.36M [00:00<?, ?B/s]"
      ]
     },
     "metadata": {},
     "output_type": "display_data"
    },
    {
     "data": {
      "application/vnd.jupyter.widget-view+json": {
       "model_id": "0b4a3d3061064818b74b9e0b4995579a",
       "version_major": 2,
       "version_minor": 0
      },
      "text/plain": [
       "special_tokens_map.json:   0%|          | 0.00/239 [00:00<?, ?B/s]"
      ]
     },
     "metadata": {},
     "output_type": "display_data"
    },
    {
     "name": "stderr",
     "output_type": "stream",
     "text": [
      "Device set to use cpu\n",
      "/home/mohamed/anaconda3/envs/book-recommender/lib/python3.11/site-packages/transformers/pipelines/text_classification.py:106: UserWarning: `return_all_scores` is now deprecated,  if want a similar functionality use `top_k=None` instead of `return_all_scores=True` or `top_k=1` instead of `return_all_scores=False`.\n",
      "  warnings.warn(\n"
     ]
    },
    {
     "data": {
      "text/plain": [
       "[[{'label': 'anger', 'score': 0.004419787786900997},\n",
       "  {'label': 'disgust', 'score': 0.0016119909705594182},\n",
       "  {'label': 'fear', 'score': 0.0004138525982853025},\n",
       "  {'label': 'joy', 'score': 0.9771687984466553},\n",
       "  {'label': 'neutral', 'score': 0.005764594301581383},\n",
       "  {'label': 'sadness', 'score': 0.002092392183840275},\n",
       "  {'label': 'surprise', 'score': 0.008528691716492176}]]"
      ]
     },
     "execution_count": 3,
     "metadata": {},
     "output_type": "execute_result"
    }
   ],
   "source": [
    "from transformers import pipeline\n",
    "classifier = pipeline(\"text-classification\", model=\"j-hartmann/emotion-english-distilroberta-base\", return_all_scores=True)\n",
    "classifier(\"I love this!\")\n"
   ]
  },
  {
   "cell_type": "code",
   "execution_count": 8,
   "metadata": {},
   "outputs": [],
   "source": [
    "sentences = books['description'][0].split('.')\n",
    "pred = classifier(sentences)"
   ]
  },
  {
   "cell_type": "code",
   "execution_count": 7,
   "metadata": {},
   "outputs": [
    {
     "data": {
      "text/plain": [
       "'A NOVEL THAT READERS and critics have been eagerly anticipating for over a decade, Gilead is an astonishingly imagined story of remarkable lives'"
      ]
     },
     "execution_count": 7,
     "metadata": {},
     "output_type": "execute_result"
    }
   ],
   "source": [
    "sentences[0]"
   ]
  },
  {
   "cell_type": "code",
   "execution_count": 10,
   "metadata": {},
   "outputs": [
    {
     "data": {
      "text/plain": [
       "[{'label': 'anger', 'score': 0.009156367741525173},\n",
       " {'label': 'disgust', 'score': 0.0026284796185791492},\n",
       " {'label': 'fear', 'score': 0.06816233694553375},\n",
       " {'label': 'joy', 'score': 0.04794260486960411},\n",
       " {'label': 'neutral', 'score': 0.14038586616516113},\n",
       " {'label': 'sadness', 'score': 0.0021221658680588007},\n",
       " {'label': 'surprise', 'score': 0.7296021580696106}]"
      ]
     },
     "execution_count": 10,
     "metadata": {},
     "output_type": "execute_result"
    }
   ],
   "source": [
    "pred[0]"
   ]
  },
  {
   "cell_type": "code",
   "execution_count": 11,
   "metadata": {},
   "outputs": [
    {
     "data": {
      "text/plain": [
       "' Haunted by his grandfather’s presence, John tells of the rift between his grandfather and his father: the elder, an angry visionary who fought for the abolitionist cause, and his son, an ardent pacifist'"
      ]
     },
     "execution_count": 11,
     "metadata": {},
     "output_type": "execute_result"
    }
   ],
   "source": [
    "sentences[3]"
   ]
  },
  {
   "cell_type": "code",
   "execution_count": 12,
   "metadata": {},
   "outputs": [
    {
     "data": {
      "text/plain": [
       "[{'label': 'anger', 'score': 0.03219093754887581},\n",
       " {'label': 'disgust', 'score': 0.00843182671815157},\n",
       " {'label': 'fear', 'score': 0.9281682372093201},\n",
       " {'label': 'joy', 'score': 0.0010455831652507186},\n",
       " {'label': 'neutral', 'score': 0.012808676809072495},\n",
       " {'label': 'sadness', 'score': 0.00875687412917614},\n",
       " {'label': 'surprise', 'score': 0.008597913198173046}]"
      ]
     },
     "execution_count": 12,
     "metadata": {},
     "output_type": "execute_result"
    }
   ],
   "source": [
    "pred[3]"
   ]
  },
  {
   "cell_type": "code",
   "execution_count": 14,
   "metadata": {},
   "outputs": [
    {
     "data": {
      "text/plain": [
       "[{'label': 'anger', 'score': 0.009156367741525173},\n",
       " {'label': 'disgust', 'score': 0.0026284796185791492},\n",
       " {'label': 'fear', 'score': 0.06816233694553375},\n",
       " {'label': 'joy', 'score': 0.04794260486960411},\n",
       " {'label': 'neutral', 'score': 0.14038586616516113},\n",
       " {'label': 'sadness', 'score': 0.0021221658680588007},\n",
       " {'label': 'surprise', 'score': 0.7296021580696106}]"
      ]
     },
     "execution_count": 14,
     "metadata": {},
     "output_type": "execute_result"
    }
   ],
   "source": [
    "sorted(pred[0], key=lambda x: x['label'])"
   ]
  },
  {
   "cell_type": "markdown",
   "metadata": {},
   "source": [
    "### Define a function to calculate the maximum emotion scores across predictions"
   ]
  },
  {
   "cell_type": "code",
   "execution_count": 17,
   "metadata": {},
   "outputs": [],
   "source": [
    "import numpy as np\n",
    "\n",
    "emotion_labels = [\"anger\", \"disgust\", \"fear\", \"joy\", \"sadness\", \"surprise\", \"neutral\"]\n",
    "isbn = []\n",
    "emotion_scores = {label: [] for label in emotion_labels}\n",
    "\n",
    "def calculate_max_emotion_scores(predictions):\n",
    "    per_emotion_scores = {label: [] for label in emotion_labels}\n",
    "    for prediction in predictions:\n",
    "        sorted_predictions = sorted(prediction, key=lambda x: x[\"label\"])\n",
    "        for index, label in enumerate(emotion_labels):\n",
    "            per_emotion_scores[label].append(sorted_predictions[index][\"score\"])\n",
    "    return {label: np.max(scores) for label, scores in per_emotion_scores.items()}"
   ]
  },
  {
   "cell_type": "markdown",
   "metadata": {},
   "source": [
    "### Process the first 10 books in the dataset"
   ]
  },
  {
   "cell_type": "code",
   "execution_count": 18,
   "metadata": {},
   "outputs": [],
   "source": [
    "for i in range(10):\n",
    "    isbn.append(books['isbn13'][i])\n",
    "    sentences = books['description'][i].split('.')\n",
    "    predications = classifier(sentences)\n",
    "    max_score = calculate_max_emotion_scores(predications)\n",
    "    for label in emotion_labels:\n",
    "        emotion_scores[label].append(max_score[label])"
   ]
  },
  {
   "cell_type": "code",
   "execution_count": 19,
   "metadata": {},
   "outputs": [
    {
     "data": {
      "text/plain": [
       "{'anger': [0.06413359194993973,\n",
       "  0.6126194596290588,\n",
       "  0.6126194596290588,\n",
       "  0.06413359194993973,\n",
       "  0.3514842092990875,\n",
       "  0.3514842092990875,\n",
       "  0.08141259849071503,\n",
       "  0.08141259849071503,\n",
       "  0.23222461342811584,\n",
       "  0.23222461342811584],\n",
       " 'disgust': [0.2735915184020996,\n",
       "  0.3482845425605774,\n",
       "  0.3482845425605774,\n",
       "  0.10400668531656265,\n",
       "  0.15072239935398102,\n",
       "  0.15072239935398102,\n",
       "  0.18449528515338898,\n",
       "  0.18449528515338898,\n",
       "  0.7271749973297119,\n",
       "  0.7271749973297119],\n",
       " 'fear': [0.9281682372093201,\n",
       "  0.9425276517868042,\n",
       "  0.9425276517868042,\n",
       "  0.9723208546638489,\n",
       "  0.3607059419155121,\n",
       "  0.3607059419155121,\n",
       "  0.0950433686375618,\n",
       "  0.0950433686375618,\n",
       "  0.05136280506849289,\n",
       "  0.05136280506849289],\n",
       " 'joy': [0.9327983260154724,\n",
       "  0.7044220566749573,\n",
       "  0.7044220566749573,\n",
       "  0.7672377824783325,\n",
       "  0.2518812119960785,\n",
       "  0.2518812119960785,\n",
       "  0.0405643992125988,\n",
       "  0.0405643992125988,\n",
       "  0.04337583854794502,\n",
       "  0.04337583854794502],\n",
       " 'sadness': [0.6462157368659973,\n",
       "  0.8879395127296448,\n",
       "  0.8879395127296448,\n",
       "  0.5494768619537354,\n",
       "  0.7326846122741699,\n",
       "  0.7326846122741699,\n",
       "  0.8843895196914673,\n",
       "  0.8843895196914673,\n",
       "  0.621392011642456,\n",
       "  0.621392011642456],\n",
       " 'surprise': [0.9671575427055359,\n",
       "  0.11169016361236572,\n",
       "  0.11169016361236572,\n",
       "  0.11169016361236572,\n",
       "  0.11169016361236572,\n",
       "  0.11169016361236572,\n",
       "  0.4758806526660919,\n",
       "  0.4758806526660919,\n",
       "  0.11169016361236572,\n",
       "  0.11169016361236572],\n",
       " 'neutral': [0.7296021580696106,\n",
       "  0.25254595279693604,\n",
       "  0.25254595279693604,\n",
       "  0.07876545190811157,\n",
       "  0.07876545190811157,\n",
       "  0.07876545190811157,\n",
       "  0.07876545190811157,\n",
       "  0.07876545190811157,\n",
       "  0.271903395652771,\n",
       "  0.271903395652771]}"
      ]
     },
     "execution_count": 19,
     "metadata": {},
     "output_type": "execute_result"
    }
   ],
   "source": [
    "emotion_scores"
   ]
  },
  {
   "cell_type": "markdown",
   "metadata": {},
   "source": [
    "### Process all books in the dataset with a progress bar"
   ]
  },
  {
   "cell_type": "code",
   "execution_count": 20,
   "metadata": {},
   "outputs": [
    {
     "name": "stderr",
     "output_type": "stream",
     "text": [
      "100%|██████████| 5606/5606 [44:36<00:00,  2.09it/s]  \n"
     ]
    }
   ],
   "source": [
    "from tqdm import tqdm\n",
    "\n",
    "emotion_labels = [\"anger\", \"disgust\", \"fear\", \"joy\", \"sadness\", \"surprise\", \"neutral\"]\n",
    "isbn = []\n",
    "emotion_scores = {label: [] for label in emotion_labels}\n",
    "\n",
    "for i in tqdm(range(len(books))):\n",
    "    isbn.append(books['isbn13'][i])\n",
    "    sentences = books['description'][i].split('.')\n",
    "    predications = classifier(sentences)\n",
    "    max_score = calculate_max_emotion_scores(predications)\n",
    "    for label in emotion_labels:\n",
    "        emotion_scores[label].append(max_score[label])"
   ]
  },
  {
   "cell_type": "markdown",
   "metadata": {},
   "source": [
    "### Convert the emotion scores dictionary into a DataFrame"
   ]
  },
  {
   "cell_type": "code",
   "execution_count": 21,
   "metadata": {},
   "outputs": [],
   "source": [
    "emoations_df = pd.DataFrame(emotion_scores)\n",
    "emoations_df['isbn13'] = isbn"
   ]
  },
  {
   "cell_type": "markdown",
   "metadata": {},
   "source": [
    "### Merge the emotion scores DataFrame with the original books DataFrame on the 'isbn13' column"
   ]
  },
  {
   "cell_type": "code",
   "execution_count": 22,
   "metadata": {},
   "outputs": [],
   "source": [
    "books = pd.merge(books, emoations_df, on='isbn13')"
   ]
  },
  {
   "cell_type": "code",
   "execution_count": 23,
   "metadata": {},
   "outputs": [
    {
     "data": {
      "text/html": [
       "<div>\n",
       "<style scoped>\n",
       "    .dataframe tbody tr th:only-of-type {\n",
       "        vertical-align: middle;\n",
       "    }\n",
       "\n",
       "    .dataframe tbody tr th {\n",
       "        vertical-align: top;\n",
       "    }\n",
       "\n",
       "    .dataframe thead th {\n",
       "        text-align: right;\n",
       "    }\n",
       "</style>\n",
       "<table border=\"1\" class=\"dataframe\">\n",
       "  <thead>\n",
       "    <tr style=\"text-align: right;\">\n",
       "      <th></th>\n",
       "      <th>isbn13</th>\n",
       "      <th>isbn10</th>\n",
       "      <th>title</th>\n",
       "      <th>authors</th>\n",
       "      <th>categories</th>\n",
       "      <th>thumbnail</th>\n",
       "      <th>description</th>\n",
       "      <th>published_year</th>\n",
       "      <th>average_rating</th>\n",
       "      <th>num_pages</th>\n",
       "      <th>...</th>\n",
       "      <th>title_and_subtitle</th>\n",
       "      <th>tagged_description</th>\n",
       "      <th>simple_categories</th>\n",
       "      <th>anger</th>\n",
       "      <th>disgust</th>\n",
       "      <th>fear</th>\n",
       "      <th>joy</th>\n",
       "      <th>sadness</th>\n",
       "      <th>surprise</th>\n",
       "      <th>neutral</th>\n",
       "    </tr>\n",
       "  </thead>\n",
       "  <tbody>\n",
       "    <tr>\n",
       "      <th>0</th>\n",
       "      <td>9780002005883</td>\n",
       "      <td>0002005883</td>\n",
       "      <td>Gilead</td>\n",
       "      <td>Marilynne Robinson</td>\n",
       "      <td>Fiction</td>\n",
       "      <td>http://books.google.com/books/content?id=KQZCP...</td>\n",
       "      <td>A NOVEL THAT READERS and critics have been eag...</td>\n",
       "      <td>2004.0</td>\n",
       "      <td>3.85</td>\n",
       "      <td>247.0</td>\n",
       "      <td>...</td>\n",
       "      <td>Gilead</td>\n",
       "      <td>9780002005883: A NOVEL THAT READERS and critic...</td>\n",
       "      <td>Fiction</td>\n",
       "      <td>0.064134</td>\n",
       "      <td>0.273592</td>\n",
       "      <td>0.928168</td>\n",
       "      <td>0.932798</td>\n",
       "      <td>0.646216</td>\n",
       "      <td>0.967158</td>\n",
       "      <td>0.729602</td>\n",
       "    </tr>\n",
       "    <tr>\n",
       "      <th>1</th>\n",
       "      <td>9780002261982</td>\n",
       "      <td>0002261987</td>\n",
       "      <td>Spider's Web</td>\n",
       "      <td>Charles Osborne;Agatha Christie</td>\n",
       "      <td>Detective and mystery stories</td>\n",
       "      <td>http://books.google.com/books/content?id=gA5GP...</td>\n",
       "      <td>A new 'Christie for Christmas' -- a full-lengt...</td>\n",
       "      <td>2000.0</td>\n",
       "      <td>3.83</td>\n",
       "      <td>241.0</td>\n",
       "      <td>...</td>\n",
       "      <td>Spider's Web: A Novel</td>\n",
       "      <td>9780002261982: A new 'Christie for Christmas' ...</td>\n",
       "      <td>Fiction</td>\n",
       "      <td>0.612619</td>\n",
       "      <td>0.348285</td>\n",
       "      <td>0.942528</td>\n",
       "      <td>0.704422</td>\n",
       "      <td>0.887940</td>\n",
       "      <td>0.111690</td>\n",
       "      <td>0.252546</td>\n",
       "    </tr>\n",
       "    <tr>\n",
       "      <th>2</th>\n",
       "      <td>9780002261982</td>\n",
       "      <td>0002261987</td>\n",
       "      <td>Spider's Web</td>\n",
       "      <td>Charles Osborne;Agatha Christie</td>\n",
       "      <td>Detective and mystery stories</td>\n",
       "      <td>http://books.google.com/books/content?id=gA5GP...</td>\n",
       "      <td>A new 'Christie for Christmas' -- a full-lengt...</td>\n",
       "      <td>2000.0</td>\n",
       "      <td>3.83</td>\n",
       "      <td>241.0</td>\n",
       "      <td>...</td>\n",
       "      <td>Spider's Web: A Novel</td>\n",
       "      <td>9780002261982: A new 'Christie for Christmas' ...</td>\n",
       "      <td>Fiction</td>\n",
       "      <td>0.612619</td>\n",
       "      <td>0.348285</td>\n",
       "      <td>0.942528</td>\n",
       "      <td>0.704422</td>\n",
       "      <td>0.887940</td>\n",
       "      <td>0.111690</td>\n",
       "      <td>0.252546</td>\n",
       "    </tr>\n",
       "    <tr>\n",
       "      <th>3</th>\n",
       "      <td>9780002261982</td>\n",
       "      <td>0002261987</td>\n",
       "      <td>Spider's Web</td>\n",
       "      <td>Charles Osborne;Agatha Christie</td>\n",
       "      <td>Detective and mystery stories</td>\n",
       "      <td>http://books.google.com/books/content?id=gA5GP...</td>\n",
       "      <td>A new 'Christie for Christmas' -- a full-lengt...</td>\n",
       "      <td>2000.0</td>\n",
       "      <td>3.83</td>\n",
       "      <td>241.0</td>\n",
       "      <td>...</td>\n",
       "      <td>Spider's Web: A Novel</td>\n",
       "      <td>9780002261982: A new 'Christie for Christmas' ...</td>\n",
       "      <td>Fiction</td>\n",
       "      <td>0.612619</td>\n",
       "      <td>0.348285</td>\n",
       "      <td>0.942528</td>\n",
       "      <td>0.704422</td>\n",
       "      <td>0.887940</td>\n",
       "      <td>0.111690</td>\n",
       "      <td>0.252546</td>\n",
       "    </tr>\n",
       "    <tr>\n",
       "      <th>4</th>\n",
       "      <td>9780002261982</td>\n",
       "      <td>0002261987</td>\n",
       "      <td>Spider's Web</td>\n",
       "      <td>Charles Osborne;Agatha Christie</td>\n",
       "      <td>Detective and mystery stories</td>\n",
       "      <td>http://books.google.com/books/content?id=gA5GP...</td>\n",
       "      <td>A new 'Christie for Christmas' -- a full-lengt...</td>\n",
       "      <td>2000.0</td>\n",
       "      <td>3.83</td>\n",
       "      <td>241.0</td>\n",
       "      <td>...</td>\n",
       "      <td>Spider's Web: A Novel</td>\n",
       "      <td>9780002261982: A new 'Christie for Christmas' ...</td>\n",
       "      <td>Fiction</td>\n",
       "      <td>0.612619</td>\n",
       "      <td>0.348285</td>\n",
       "      <td>0.942528</td>\n",
       "      <td>0.704422</td>\n",
       "      <td>0.887940</td>\n",
       "      <td>0.111690</td>\n",
       "      <td>0.252546</td>\n",
       "    </tr>\n",
       "  </tbody>\n",
       "</table>\n",
       "<p>5 rows × 21 columns</p>\n",
       "</div>"
      ],
      "text/plain": [
       "          isbn13      isbn10         title                          authors  \\\n",
       "0  9780002005883  0002005883        Gilead               Marilynne Robinson   \n",
       "1  9780002261982  0002261987  Spider's Web  Charles Osborne;Agatha Christie   \n",
       "2  9780002261982  0002261987  Spider's Web  Charles Osborne;Agatha Christie   \n",
       "3  9780002261982  0002261987  Spider's Web  Charles Osborne;Agatha Christie   \n",
       "4  9780002261982  0002261987  Spider's Web  Charles Osborne;Agatha Christie   \n",
       "\n",
       "                      categories  \\\n",
       "0                        Fiction   \n",
       "1  Detective and mystery stories   \n",
       "2  Detective and mystery stories   \n",
       "3  Detective and mystery stories   \n",
       "4  Detective and mystery stories   \n",
       "\n",
       "                                           thumbnail  \\\n",
       "0  http://books.google.com/books/content?id=KQZCP...   \n",
       "1  http://books.google.com/books/content?id=gA5GP...   \n",
       "2  http://books.google.com/books/content?id=gA5GP...   \n",
       "3  http://books.google.com/books/content?id=gA5GP...   \n",
       "4  http://books.google.com/books/content?id=gA5GP...   \n",
       "\n",
       "                                         description  published_year  \\\n",
       "0  A NOVEL THAT READERS and critics have been eag...          2004.0   \n",
       "1  A new 'Christie for Christmas' -- a full-lengt...          2000.0   \n",
       "2  A new 'Christie for Christmas' -- a full-lengt...          2000.0   \n",
       "3  A new 'Christie for Christmas' -- a full-lengt...          2000.0   \n",
       "4  A new 'Christie for Christmas' -- a full-lengt...          2000.0   \n",
       "\n",
       "   average_rating  num_pages  ...     title_and_subtitle  \\\n",
       "0            3.85      247.0  ...                 Gilead   \n",
       "1            3.83      241.0  ...  Spider's Web: A Novel   \n",
       "2            3.83      241.0  ...  Spider's Web: A Novel   \n",
       "3            3.83      241.0  ...  Spider's Web: A Novel   \n",
       "4            3.83      241.0  ...  Spider's Web: A Novel   \n",
       "\n",
       "                                  tagged_description simple_categories  \\\n",
       "0  9780002005883: A NOVEL THAT READERS and critic...           Fiction   \n",
       "1  9780002261982: A new 'Christie for Christmas' ...           Fiction   \n",
       "2  9780002261982: A new 'Christie for Christmas' ...           Fiction   \n",
       "3  9780002261982: A new 'Christie for Christmas' ...           Fiction   \n",
       "4  9780002261982: A new 'Christie for Christmas' ...           Fiction   \n",
       "\n",
       "      anger   disgust      fear       joy   sadness  surprise   neutral  \n",
       "0  0.064134  0.273592  0.928168  0.932798  0.646216  0.967158  0.729602  \n",
       "1  0.612619  0.348285  0.942528  0.704422  0.887940  0.111690  0.252546  \n",
       "2  0.612619  0.348285  0.942528  0.704422  0.887940  0.111690  0.252546  \n",
       "3  0.612619  0.348285  0.942528  0.704422  0.887940  0.111690  0.252546  \n",
       "4  0.612619  0.348285  0.942528  0.704422  0.887940  0.111690  0.252546  \n",
       "\n",
       "[5 rows x 21 columns]"
      ]
     },
     "execution_count": 23,
     "metadata": {},
     "output_type": "execute_result"
    }
   ],
   "source": [
    "books.head()"
   ]
  },
  {
   "cell_type": "markdown",
   "metadata": {},
   "source": [
    "### Save the updated DataFrame with emotion scores to a new CSV file\n"
   ]
  },
  {
   "cell_type": "code",
   "execution_count": 24,
   "metadata": {},
   "outputs": [],
   "source": [
    "books.to_csv('../data/processed/books_with_emotions.csv', index=False)"
   ]
  }
 ],
 "metadata": {
  "kernelspec": {
   "display_name": "book-recommender",
   "language": "python",
   "name": "python3"
  },
  "language_info": {
   "codemirror_mode": {
    "name": "ipython",
    "version": 3
   },
   "file_extension": ".py",
   "mimetype": "text/x-python",
   "name": "python",
   "nbconvert_exporter": "python",
   "pygments_lexer": "ipython3",
   "version": "3.11.11"
  }
 },
 "nbformat": 4,
 "nbformat_minor": 2
}
